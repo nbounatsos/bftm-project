{
 "cells": [
  {
   "cell_type": "code",
   "execution_count": 1,
   "outputs": [],
   "source": [
    "%reset -f"
   ],
   "metadata": {
    "collapsed": false,
    "pycharm": {
     "name": "#%%\n"
    }
   }
  },
  {
   "cell_type": "code",
   "execution_count": 2,
   "metadata": {
    "collapsed": true,
    "pycharm": {
     "name": "#%%\n"
    }
   },
   "outputs": [],
   "source": [
    "import pandas as pd"
   ]
  },
  {
   "cell_type": "code",
   "execution_count": 3,
   "outputs": [],
   "source": [
    "X=pd.read_csv('train_call.tsv', sep='\\t')\n",
    "y=pd.read_csv('train_clinical.txt', sep='\\t', index_col=0)"
   ],
   "metadata": {
    "collapsed": false,
    "pycharm": {
     "name": "#%%\n"
    }
   }
  },
  {
   "cell_type": "code",
   "execution_count": 4,
   "outputs": [],
   "source": [
    "X = X.transpose()\n",
    "X = X.tail(-4)"
   ],
   "metadata": {
    "collapsed": false,
    "pycharm": {
     "name": "#%%\n"
    }
   }
  },
  {
   "cell_type": "markdown",
   "source": [
    "# Create a dictionary to map the string labels to integers"
   ],
   "metadata": {
    "collapsed": false,
    "pycharm": {
     "name": "#%% md\n"
    }
   }
  },
  {
   "cell_type": "code",
   "execution_count": 5,
   "outputs": [],
   "source": [
    "class_mapping = {'HER2+': 1, 'HR+': 2, 'Triple Neg': 3}\n",
    "y = y.replace(class_mapping)"
   ],
   "metadata": {
    "collapsed": false,
    "pycharm": {
     "name": "#%%\n"
    }
   }
  },
  {
   "cell_type": "markdown",
   "source": [
    "# Standardize the features"
   ],
   "metadata": {
    "collapsed": false,
    "pycharm": {
     "name": "#%% md\n"
    }
   }
  },
  {
   "cell_type": "code",
   "execution_count": 6,
   "outputs": [],
   "source": [
    "from sklearn.preprocessing import StandardScaler\n",
    "scaler = StandardScaler()\n",
    "X = scaler.fit_transform(X)"
   ],
   "metadata": {
    "collapsed": false,
    "pycharm": {
     "name": "#%%\n"
    }
   }
  },
  {
   "cell_type": "markdown",
   "source": [
    "### PCA"
   ],
   "metadata": {
    "collapsed": false,
    "pycharm": {
     "name": "#%% md\n"
    }
   }
  },
  {
   "cell_type": "code",
   "execution_count": 7,
   "outputs": [],
   "source": [
    "from sklearn.decomposition import PCA\n",
    "\n",
    "pca = PCA(n_components=2)\n",
    "X_pca = pca.fit_transform(X)"
   ],
   "metadata": {
    "collapsed": false,
    "pycharm": {
     "name": "#%%\n"
    }
   }
  },
  {
   "cell_type": "code",
   "execution_count": 8,
   "outputs": [
    {
     "data": {
      "text/plain": "<Figure size 432x288 with 1 Axes>",
      "image/png": "[encoded data removed]"
     },
     "metadata": {},
     "output_type": "display_data"
    }
   ],
   "source": [
    "import matplotlib.pyplot as plt\n",
    "\n",
    "# Assuming you have already applied PCA to your dataset\n",
    "# and the result is stored in X_pca\n",
    "pca = PCA(n_components=2)\n",
    "X_pca = pca.fit_transform(X)\n",
    "\n",
    "colors = ['r', 'g', 'b']\n",
    "class_labels = ['HER2+', 'HR+', 'Triple Neg']\n",
    "custom_cmap = {1: 'r', 2: 'g', 3: 'b'}\n",
    "fig, ax = plt.subplots()\n",
    "\n",
    "for i, label in enumerate(y['Subgroup']):\n",
    "    plt.scatter(X_pca[i, 0], X_pca[i, 1], color=custom_cmap[y['Subgroup'].iloc[i]])\n",
    "\n",
    "# Create a custom legend\n",
    "from collections import OrderedDict\n",
    "custom_legend = [plt.scatter([], [], color=custom_cmap[class_num], label=class_label) for class_label, class_num in class_mapping.items()]\n",
    "ax.legend(handles=custom_legend, loc='best')\n",
    "\n",
    "# Calculate the total variance explained by PC1 and PC2\n",
    "total_variance_explained = sum(pca.explained_variance_ratio_) * 100\n",
    "\n",
    "plt.xlabel(f'PC1 ({pca.explained_variance_ratio_[0]*100:.2f}%)')\n",
    "plt.ylabel(f'PC2 ({pca.explained_variance_ratio_[1]*100:.2f}%)')\n",
    "plt.title(f'Total variance explained: {total_variance_explained:.2f}%')\n",
    "plt.show()\n"
   ],
   "metadata": {
    "collapsed": false,
    "pycharm": {
     "name": "#%%\n"
    }
   }
  },
  {
   "cell_type": "markdown",
   "source": [
    "# Non-Linear"
   ],
   "metadata": {
    "collapsed": false,
    "pycharm": {
     "name": "#%% md\n"
    }
   }
  },
  {
   "cell_type": "markdown",
   "source": [
    "# Split data to training-validation-testing"
   ],
   "metadata": {
    "collapsed": false,
    "pycharm": {
     "name": "#%% md\n"
    }
   }
  },
  {
   "cell_type": "code",
   "execution_count": 9,
   "outputs": [],
   "source": [
    "from sklearn.model_selection import train_test_split\n",
    "X_trainval, X_test, y_trainval, y_test = train_test_split(X, y, test_size=0.2, random_state=42)\n",
    "X_train, X_val, y_train, y_val = train_test_split(X_trainval, y_trainval, test_size=0.2, random_state=42)"
   ],
   "metadata": {
    "collapsed": false,
    "pycharm": {
     "name": "#%%\n"
    }
   }
  },
  {
   "cell_type": "code",
   "execution_count": 10,
   "outputs": [],
   "source": [
    "# Check a dataframe for class balance\n",
    "def check_class_balance(df, target_column):\n",
    "    print(df[target_column].value_counts())"
   ],
   "metadata": {
    "collapsed": false,
    "pycharm": {
     "name": "#%%\n"
    }
   }
  },
  {
   "cell_type": "code",
   "execution_count": 11,
   "outputs": [
    {
     "name": "stdout",
     "output_type": "stream",
     "text": [
      "2    29\n",
      "3    26\n",
      "1    25\n",
      "Name: Subgroup, dtype: int64\n"
     ]
    }
   ],
   "source": [
    "check_class_balance(y_trainval, 'Subgroup')"
   ],
   "metadata": {
    "collapsed": false,
    "pycharm": {
     "name": "#%%\n"
    }
   }
  },
  {
   "cell_type": "code",
   "execution_count": 12,
   "outputs": [
    {
     "name": "stdout",
     "output_type": "stream",
     "text": [
      "2    22\n",
      "3    21\n",
      "1    21\n",
      "Name: Subgroup, dtype: int64\n"
     ]
    }
   ],
   "source": [
    "check_class_balance(y_train, 'Subgroup')"
   ],
   "metadata": {
    "collapsed": false,
    "pycharm": {
     "name": "#%%\n"
    }
   }
  },
  {
   "cell_type": "code",
   "execution_count": 13,
   "outputs": [
    {
     "name": "stdout",
     "output_type": "stream",
     "text": [
      "2    7\n",
      "1    7\n",
      "3    6\n",
      "Name: Subgroup, dtype: int64\n"
     ]
    }
   ],
   "source": [
    "check_class_balance(y_test, 'Subgroup')"
   ],
   "metadata": {
    "collapsed": false,
    "pycharm": {
     "name": "#%%\n"
    }
   }
  },
  {
   "cell_type": "code",
   "execution_count": 14,
   "outputs": [
    {
     "name": "stdout",
     "output_type": "stream",
     "text": [
      "2    7\n",
      "3    5\n",
      "1    4\n",
      "Name: Subgroup, dtype: int64\n"
     ]
    }
   ],
   "source": [
    "check_class_balance(y_val, 'Subgroup')"
   ],
   "metadata": {
    "collapsed": false,
    "pycharm": {
     "name": "#%%\n"
    }
   }
  },
  {
   "cell_type": "markdown",
   "source": [
    "## RFE with SVM"
   ],
   "metadata": {
    "collapsed": false,
    "pycharm": {
     "name": "#%% md\n"
    }
   }
  },
  {
   "cell_type": "code",
   "execution_count": 15,
   "outputs": [
    {
     "name": "stdout",
     "output_type": "stream",
     "text": [
      "Fitting 5 folds for each of 20 candidates, totalling 100 fits\n",
      "Validation accuracy: 0.688\n"
     ]
    }
   ],
   "source": [
    "import numpy as np\n",
    "from sklearn.svm import SVC\n",
    "from sklearn.pipeline import Pipeline\n",
    "from sklearn.feature_selection import RFE\n",
    "from sklearn.model_selection import RandomizedSearchCV\n",
    "from sklearn.metrics import accuracy_score\n",
    "\n",
    "# Create a pipeline with RFE and SVM\n",
    "pipe = Pipeline([('feature_selection', RFE(SVC(kernel='linear'))), ('classifier', SVC())])\n",
    "\n",
    "# Define the parameter grid\n",
    "param_grid = {\n",
    "    'feature_selection__n_features_to_select': np.arange(10, 100, 5),\n",
    "    'classifier__C': np.logspace(-3, 3, 7),\n",
    "    'classifier__kernel': ['linear'],\n",
    "    'classifier__degree': [2, 3, 4],\n",
    "    'classifier__gamma': ['scale', 'auto']\n",
    "}\n",
    "\n",
    "# Create the RandomizedSearchCV with 5-fold cross-validation\n",
    "random_search = RandomizedSearchCV(pipe, param_distributions=param_grid, n_iter=20, cv=5, verbose=2, n_jobs=-1)\n",
    "\n",
    "# Fit the RandomizedSearchCV on the training data\n",
    "random_search.fit(X_train, y_train.values.ravel())\n",
    "\n",
    "# Get the best pipeline\n",
    "best_pipeline = random_search.best_estimator_\n",
    "\n",
    "# Transform the data using the best RFE\n",
    "X_train_selected = best_pipeline.named_steps['feature_selection'].transform(X_train)\n",
    "X_val_selected = best_pipeline.named_steps['feature_selection'].transform(X_val)\n",
    "X_test_selected = best_pipeline.named_steps['feature_selection'].transform(X_test)\n",
    "\n",
    "# Fit the best pipeline on the training data\n",
    "best_pipeline.fit(X_train_selected, y_train.values.ravel())\n",
    "\n",
    "# Evaluate the best pipeline on the validation set\n",
    "y_val_pred = best_pipeline.predict(X_val_selected)\n",
    "accuracy = accuracy_score(y_val.values.ravel(), y_val_pred)\n",
    "print(f\"Validation accuracy: {accuracy:.3f}\")"
   ],
   "metadata": {
    "collapsed": false,
    "pycharm": {
     "name": "#%%\n"
    }
   }
  },
  {
   "cell_type": "code",
   "execution_count": 16,
   "outputs": [
    {
     "name": "stdout",
     "output_type": "stream",
     "text": [
      "Optimal number of features: 35\n"
     ]
    }
   ],
   "source": [
    "optimal_n = best_pipeline.named_steps['feature_selection'].n_features_\n",
    "print(f\"Optimal number of features: {optimal_n}\")"
   ],
   "metadata": {
    "collapsed": false,
    "pycharm": {
     "name": "#%%\n"
    }
   }
  },
  {
   "cell_type": "markdown",
   "source": [
    "# Random Forest feature selection"
   ],
   "metadata": {
    "collapsed": false,
    "pycharm": {
     "name": "#%% md\n"
    }
   }
  },
  {
   "cell_type": "markdown",
   "source": [],
   "metadata": {
    "collapsed": false,
    "pycharm": {
     "name": "#%% md\n"
    }
   }
  },
  {
   "cell_type": "code",
   "execution_count": 94,
   "outputs": [],
   "source": [
    "import numpy as np\n",
    "from sklearn.ensemble import RandomForestClassifier\n",
    "from sklearn.model_selection import GridSearchCV\n",
    "from sklearn.metrics import accuracy_score\n",
    "from sklearn.model_selection import cross_val_score\n",
    "\n",
    "param_grid = {\n",
    "    'n_estimators': [5, 50, 100, 150, 200, 250, 300],\n",
    "    'max_depth': [None, 5, 10, 15, 20, 30],\n",
    "    'min_samples_split': [2, 4, 5, 7, 10],\n",
    "    'min_samples_leaf': [1, 2, 3, 4],\n",
    "    'bootstrap': [True, False]\n",
    "}\n",
    "\n",
    "rf = RandomForestClassifier()"
   ],
   "metadata": {
    "collapsed": false,
    "pycharm": {
     "name": "#%%\n"
    }
   }
  },
  {
   "cell_type": "markdown",
   "source": [
    "# Initialize a 10-fold cross-validated grid search"
   ],
   "metadata": {
    "collapsed": false,
    "pycharm": {
     "name": "#%% md\n"
    }
   }
  },
  {
   "cell_type": "code",
   "execution_count": 95,
   "outputs": [],
   "source": [
    "grid_search = GridSearchCV(estimator=rf, param_grid=param_grid, cv=10, n_jobs=-1, scoring='accuracy')"
   ],
   "metadata": {
    "collapsed": false,
    "pycharm": {
     "name": "#%%\n"
    }
   }
  },
  {
   "cell_type": "markdown",
   "source": [
    "# Fit the grid search on the training data"
   ],
   "metadata": {
    "collapsed": false,
    "pycharm": {
     "name": "#%% md\n"
    }
   }
  },
  {
   "cell_type": "code",
   "execution_count": 96,
   "outputs": [
    {
     "data": {
      "text/plain": "GridSearchCV(cv=10, estimator=RandomForestClassifier(), n_jobs=-1,\n             param_grid={'bootstrap': [True, False],\n                         'max_depth': [None, 5, 10, 15, 20, 30],\n                         'min_samples_leaf': [1, 2, 3, 4],\n                         'min_samples_split': [2, 4, 5, 7, 10],\n                         'n_estimators': [5, 50, 100, 150, 200, 250, 300]},\n             scoring='accuracy')"
     },
     "execution_count": 96,
     "metadata": {},
     "output_type": "execute_result"
    }
   ],
   "source": [
    "grid_search.fit(X_train, y_train.values.ravel())"
   ],
   "metadata": {
    "collapsed": false,
    "pycharm": {
     "name": "#%%\n"
    }
   }
  },
  {
   "cell_type": "markdown",
   "source": [
    "# Get the best model"
   ],
   "metadata": {
    "collapsed": false,
    "pycharm": {
     "name": "#%% md\n"
    }
   }
  },
  {
   "cell_type": "code",
   "execution_count": 97,
   "outputs": [],
   "source": [
    "best_rf = grid_search.best_estimator_"
   ],
   "metadata": {
    "collapsed": false,
    "pycharm": {
     "name": "#%%\n"
    }
   }
  },
  {
   "cell_type": "markdown",
   "source": [
    "# Get the feature importances from the best Random Forest model"
   ],
   "metadata": {
    "collapsed": false,
    "pycharm": {
     "name": "#%% md\n"
    }
   }
  },
  {
   "cell_type": "code",
   "execution_count": 98,
   "outputs": [],
   "source": [
    "feature_importances = best_rf.feature_importances_"
   ],
   "metadata": {
    "collapsed": false,
    "pycharm": {
     "name": "#%%\n"
    }
   }
  },
  {
   "cell_type": "markdown",
   "source": [
    "# Select the n optimal features"
   ],
   "metadata": {
    "collapsed": false,
    "pycharm": {
     "name": "#%% md\n"
    }
   }
  },
  {
   "cell_type": "code",
   "execution_count": 99,
   "outputs": [],
   "source": [
    "cv_scores = []\n",
    "n_val = range(1, 300, 5)"
   ],
   "metadata": {
    "collapsed": false,
    "pycharm": {
     "name": "#%%\n"
    }
   }
  },
  {
   "cell_type": "code",
   "execution_count": 100,
   "outputs": [],
   "source": [
    "for n in n_val:\n",
    "    top_n_indices = np.argsort(feature_importances)[-n:]\n",
    "    X_train_selected = X_train[:, top_n_indices]\n",
    "    cv_score = np.mean(cross_val_score(best_rf, X_train_selected, y_train.values.ravel(), cv=10, scoring='accuracy'))\n",
    "    cv_scores.append(cv_score)\n",
    "\n",
    "optimal_n = n_val[np.argmax(cv_scores)]"
   ],
   "metadata": {
    "collapsed": false,
    "pycharm": {
     "name": "#%%\n"
    }
   }
  },
  {
   "cell_type": "markdown",
   "source": [
    "# Select the top optimal_n features"
   ],
   "metadata": {
    "collapsed": false,
    "pycharm": {
     "name": "#%% md\n"
    }
   }
  },
  {
   "cell_type": "code",
   "execution_count": 101,
   "outputs": [],
   "source": [
    "X_train_selected = X_train[:, np.argsort(feature_importances)[-optimal_n:]]\n",
    "X_val_selected = X_val[:, np.argsort(feature_importances)[-optimal_n:]]\n",
    "X_test_selected = X_test[:, np.argsort(feature_importances)[-optimal_n:]]"
   ],
   "metadata": {
    "collapsed": false,
    "pycharm": {
     "name": "#%%\n"
    }
   }
  },
  {
   "cell_type": "markdown",
   "source": [
    "# Retrain the best model on the selected features"
   ],
   "metadata": {
    "collapsed": false,
    "pycharm": {
     "name": "#%% md\n"
    }
   }
  },
  {
   "cell_type": "code",
   "execution_count": 102,
   "outputs": [
    {
     "data": {
      "text/plain": "RandomForestClassifier(min_samples_split=5, n_estimators=150)"
     },
     "execution_count": 102,
     "metadata": {},
     "output_type": "execute_result"
    }
   ],
   "source": [
    "best_rf.fit(X_train_selected, y_train.values.ravel())"
   ],
   "metadata": {
    "collapsed": false,
    "pycharm": {
     "name": "#%%\n"
    }
   }
  },
  {
   "cell_type": "markdown",
   "source": [
    "# Evaluate the retrained model on the validation set"
   ],
   "metadata": {
    "collapsed": false,
    "pycharm": {
     "name": "#%% md\n"
    }
   }
  },
  {
   "cell_type": "code",
   "execution_count": 103,
   "outputs": [
    {
     "name": "stdout",
     "output_type": "stream",
     "text": [
      "Optimal n: 16\n",
      "Validation accuracy: 0.6875\n"
     ]
    }
   ],
   "source": [
    "y_val_pred = best_rf.predict(X_val_selected)\n",
    "accuracy = accuracy_score(y_val.values.ravel(), y_val_pred)\n",
    "\n",
    "print(f\"Optimal n: {optimal_n}\")\n",
    "print(f\"Validation accuracy: {accuracy}\")"
   ],
   "metadata": {
    "collapsed": false,
    "pycharm": {
     "name": "#%%\n"
    }
   }
  },
  {
   "cell_type": "code",
   "execution_count": 17,
   "outputs": [],
   "source": [
    "import numpy as np\n",
    "from sklearn.metrics import accuracy_score, confusion_matrix, classification_report\n",
    "from tensorflow.keras.models import Sequential\n",
    "from tensorflow.keras.layers import Dense, Dropout\n",
    "from tensorflow.keras.utils import to_categorical\n",
    "from tensorflow.keras.regularizers import l2\n",
    "from tensorflow.keras.wrappers.scikit_learn import KerasClassifier\n",
    "import matplotlib.pyplot as plt\n",
    "import seaborn as sns"
   ],
   "metadata": {
    "collapsed": false,
    "pycharm": {
     "name": "#%%\n"
    }
   }
  },
  {
   "cell_type": "code",
   "execution_count": 18,
   "outputs": [],
   "source": [
    "# One-hot encode the target variable\n",
    "y_trainval = to_categorical(y_trainval - 1, num_classes=3)\n",
    "y_test = to_categorical(y_test - 1, num_classes=3)\n",
    "y_val = to_categorical(y_val - 1, num_classes=3)\n",
    "y_train = to_categorical(y_train - 1, num_classes=3)"
   ],
   "metadata": {
    "collapsed": false,
    "pycharm": {
     "name": "#%%\n"
    }
   }
  },
  {
   "cell_type": "code",
   "execution_count": 19,
   "outputs": [],
   "source": [
    "# Build the neural network model with L2 regularization\n",
    "def create_model(neurons, l2_value):\n",
    "    model = Sequential()\n",
    "    model.add(Dense(neurons, input_shape=(optimal_n,), activation='relu', kernel_regularizer=l2(l2_value)))\n",
    "    model.add(Dense(3, activation='softmax', kernel_regularizer=l2(0.001)))\n",
    "    model.compile(optimizer='adam', loss='categorical_crossentropy', metrics=['accuracy'])\n",
    "    return model"
   ],
   "metadata": {
    "collapsed": false,
    "pycharm": {
     "name": "#%%\n"
    }
   }
  },
  {
   "cell_type": "code",
   "execution_count": 20,
   "outputs": [
    {
     "name": "stderr",
     "output_type": "stream",
     "text": [
      "C:\\Users\\nikos\\AppData\\Local\\Temp\\ipykernel_8128\\3330881601.py:1: DeprecationWarning: KerasClassifier is deprecated, use Sci-Keras (https://github.com/adriangb/scikeras) instead. See https://www.adriangb.com/scikeras/stable/migration.html for help migrating.\n",
      "  model = KerasClassifier(build_fn=create_model, epochs=100, batch_size=16, verbose=0)\n"
     ]
    }
   ],
   "source": [
    "model = KerasClassifier(build_fn=create_model, epochs=100, batch_size=16, verbose=0)"
   ],
   "metadata": {
    "collapsed": false,
    "pycharm": {
     "name": "#%%\n"
    }
   }
  },
  {
   "cell_type": "code",
   "execution_count": 21,
   "outputs": [],
   "source": [
    "param_grid = {\n",
    "    'neurons': [16, 32, 64, 128],\n",
    "    'l2_value': [0.0001, 0.001, 0.01, 0.1]\n",
    "}"
   ],
   "metadata": {
    "collapsed": false,
    "pycharm": {
     "name": "#%%\n"
    }
   }
  },
  {
   "cell_type": "code",
   "execution_count": 22,
   "outputs": [],
   "source": [
    "from sklearn.model_selection import GridSearchCV\n",
    "grid = GridSearchCV(estimator=model, param_grid=param_grid, cv=5, verbose=2)"
   ],
   "metadata": {
    "collapsed": false,
    "pycharm": {
     "name": "#%%\n"
    }
   }
  },
  {
   "cell_type": "code",
   "execution_count": 23,
   "outputs": [
    {
     "name": "stdout",
     "output_type": "stream",
     "text": [
      "Fitting 5 folds for each of 16 candidates, totalling 80 fits\n",
      "[CV] END ........................l2_value=0.0001, neurons=16; total time=   1.2s\n",
      "[CV] END ........................l2_value=0.0001, neurons=16; total time=   0.8s\n",
      "[CV] END ........................l2_value=0.0001, neurons=16; total time=   0.8s\n",
      "[CV] END ........................l2_value=0.0001, neurons=16; total time=   1.2s\n",
      "WARNING:tensorflow:5 out of the last 5 calls to <function Model.make_test_function.<locals>.test_function at 0x000001877BA3FE50> triggered tf.function retracing. Tracing is expensive and the excessive number of tracings could be due to (1) creating @tf.function repeatedly in a loop, (2) passing tensors with different shapes, (3) passing Python objects instead of tensors. For (1), please define your @tf.function outside of the loop. For (2), @tf.function has reduce_retracing=True option that can avoid unnecessary retracing. For (3), please refer to https://www.tensorflow.org/guide/function#controlling_retracing and https://www.tensorflow.org/api_docs/python/tf/function for  more details.\n",
      "[CV] END ........................l2_value=0.0001, neurons=16; total time=   1.0s\n",
      "WARNING:tensorflow:6 out of the last 6 calls to <function Model.make_test_function.<locals>.test_function at 0x000001877B9A6430> triggered tf.function retracing. Tracing is expensive and the excessive number of tracings could be due to (1) creating @tf.function repeatedly in a loop, (2) passing tensors with different shapes, (3) passing Python objects instead of tensors. For (1), please define your @tf.function outside of the loop. For (2), @tf.function has reduce_retracing=True option that can avoid unnecessary retracing. For (3), please refer to https://www.tensorflow.org/guide/function#controlling_retracing and https://www.tensorflow.org/api_docs/python/tf/function for  more details.\n",
      "[CV] END ........................l2_value=0.0001, neurons=32; total time=   0.9s\n",
      "[CV] END ........................l2_value=0.0001, neurons=32; total time=   1.0s\n",
      "[CV] END ........................l2_value=0.0001, neurons=32; total time=   0.9s\n",
      "[CV] END ........................l2_value=0.0001, neurons=32; total time=   1.1s\n",
      "[CV] END ........................l2_value=0.0001, neurons=32; total time=   1.0s\n",
      "[CV] END ........................l2_value=0.0001, neurons=64; total time=   1.1s\n",
      "[CV] END ........................l2_value=0.0001, neurons=64; total time=   0.9s\n",
      "[CV] END ........................l2_value=0.0001, neurons=64; total time=   0.9s\n",
      "[CV] END ........................l2_value=0.0001, neurons=64; total time=   0.9s\n",
      "[CV] END ........................l2_value=0.0001, neurons=64; total time=   0.8s\n",
      "[CV] END .......................l2_value=0.0001, neurons=128; total time=   1.1s\n",
      "[CV] END .......................l2_value=0.0001, neurons=128; total time=   0.9s\n",
      "[CV] END .......................l2_value=0.0001, neurons=128; total time=   0.8s\n",
      "[CV] END .......................l2_value=0.0001, neurons=128; total time=   0.8s\n",
      "[CV] END .......................l2_value=0.0001, neurons=128; total time=   0.8s\n",
      "[CV] END .........................l2_value=0.001, neurons=16; total time=   0.8s\n",
      "[CV] END .........................l2_value=0.001, neurons=16; total time=   1.0s\n",
      "[CV] END .........................l2_value=0.001, neurons=16; total time=   0.9s\n",
      "[CV] END .........................l2_value=0.001, neurons=16; total time=   0.8s\n",
      "[CV] END .........................l2_value=0.001, neurons=16; total time=   0.9s\n",
      "[CV] END .........................l2_value=0.001, neurons=32; total time=   0.9s\n",
      "[CV] END .........................l2_value=0.001, neurons=32; total time=   0.7s\n",
      "[CV] END .........................l2_value=0.001, neurons=32; total time=   1.0s\n",
      "[CV] END .........................l2_value=0.001, neurons=32; total time=   0.9s\n",
      "[CV] END .........................l2_value=0.001, neurons=32; total time=   1.2s\n",
      "[CV] END .........................l2_value=0.001, neurons=64; total time=   0.8s\n",
      "[CV] END .........................l2_value=0.001, neurons=64; total time=   0.8s\n",
      "[CV] END .........................l2_value=0.001, neurons=64; total time=   0.8s\n",
      "[CV] END .........................l2_value=0.001, neurons=64; total time=   1.0s\n",
      "[CV] END .........................l2_value=0.001, neurons=64; total time=   0.9s\n",
      "[CV] END ........................l2_value=0.001, neurons=128; total time=   0.9s\n",
      "[CV] END ........................l2_value=0.001, neurons=128; total time=   0.9s\n",
      "[CV] END ........................l2_value=0.001, neurons=128; total time=   0.8s\n",
      "[CV] END ........................l2_value=0.001, neurons=128; total time=   0.9s\n",
      "[CV] END ........................l2_value=0.001, neurons=128; total time=   0.9s\n",
      "[CV] END ..........................l2_value=0.01, neurons=16; total time=   0.9s\n",
      "[CV] END ..........................l2_value=0.01, neurons=16; total time=   0.9s\n",
      "[CV] END ..........................l2_value=0.01, neurons=16; total time=   0.9s\n",
      "[CV] END ..........................l2_value=0.01, neurons=16; total time=   1.1s\n",
      "[CV] END ..........................l2_value=0.01, neurons=16; total time=   1.0s\n",
      "[CV] END ..........................l2_value=0.01, neurons=32; total time=   1.0s\n",
      "[CV] END ..........................l2_value=0.01, neurons=32; total time=   0.9s\n",
      "[CV] END ..........................l2_value=0.01, neurons=32; total time=   0.9s\n",
      "[CV] END ..........................l2_value=0.01, neurons=32; total time=   0.9s\n",
      "[CV] END ..........................l2_value=0.01, neurons=32; total time=   0.9s\n",
      "[CV] END ..........................l2_value=0.01, neurons=64; total time=   0.8s\n",
      "[CV] END ..........................l2_value=0.01, neurons=64; total time=   0.9s\n",
      "[CV] END ..........................l2_value=0.01, neurons=64; total time=   0.9s\n",
      "[CV] END ..........................l2_value=0.01, neurons=64; total time=   0.8s\n",
      "[CV] END ..........................l2_value=0.01, neurons=64; total time=   0.9s\n",
      "[CV] END .........................l2_value=0.01, neurons=128; total time=   0.9s\n",
      "[CV] END .........................l2_value=0.01, neurons=128; total time=   0.9s\n",
      "[CV] END .........................l2_value=0.01, neurons=128; total time=   1.1s\n",
      "[CV] END .........................l2_value=0.01, neurons=128; total time=   1.0s\n",
      "[CV] END .........................l2_value=0.01, neurons=128; total time=   0.8s\n",
      "[CV] END ...........................l2_value=0.1, neurons=16; total time=   0.8s\n",
      "[CV] END ...........................l2_value=0.1, neurons=16; total time=   1.0s\n",
      "[CV] END ...........................l2_value=0.1, neurons=16; total time=   0.9s\n",
      "[CV] END ...........................l2_value=0.1, neurons=16; total time=   0.9s\n",
      "[CV] END ...........................l2_value=0.1, neurons=16; total time=   0.9s\n",
      "[CV] END ...........................l2_value=0.1, neurons=32; total time=   0.8s\n",
      "[CV] END ...........................l2_value=0.1, neurons=32; total time=   1.0s\n",
      "[CV] END ...........................l2_value=0.1, neurons=32; total time=   0.9s\n",
      "[CV] END ...........................l2_value=0.1, neurons=32; total time=   0.8s\n",
      "[CV] END ...........................l2_value=0.1, neurons=32; total time=   0.8s\n",
      "[CV] END ...........................l2_value=0.1, neurons=64; total time=   0.9s\n",
      "[CV] END ...........................l2_value=0.1, neurons=64; total time=   1.1s\n",
      "[CV] END ...........................l2_value=0.1, neurons=64; total time=   0.8s\n",
      "[CV] END ...........................l2_value=0.1, neurons=64; total time=   0.9s\n",
      "[CV] END ...........................l2_value=0.1, neurons=64; total time=   0.9s\n",
      "[CV] END ..........................l2_value=0.1, neurons=128; total time=   0.9s\n",
      "[CV] END ..........................l2_value=0.1, neurons=128; total time=   0.9s\n",
      "[CV] END ..........................l2_value=0.1, neurons=128; total time=   0.9s\n",
      "[CV] END ..........................l2_value=0.1, neurons=128; total time=   1.0s\n",
      "[CV] END ..........................l2_value=0.1, neurons=128; total time=   0.9s\n"
     ]
    }
   ],
   "source": [
    "grid_result = grid.fit(X_train_selected, y_train)"
   ],
   "metadata": {
    "collapsed": false,
    "pycharm": {
     "name": "#%%\n"
    }
   }
  },
  {
   "cell_type": "code",
   "execution_count": 24,
   "outputs": [
    {
     "name": "stdout",
     "output_type": "stream",
     "text": [
      "Best: 1.000000 using {'l2_value': 0.0001, 'neurons': 64}\n"
     ]
    }
   ],
   "source": [
    "print(\"Best: %f using %s\" % (grid_result.best_score_, grid_result.best_params_))"
   ],
   "metadata": {
    "collapsed": false,
    "pycharm": {
     "name": "#%%\n"
    }
   }
  },
  {
   "cell_type": "code",
   "execution_count": 25,
   "outputs": [],
   "source": [
    "best_n_neurons = grid_result.best_params_['neurons']\n",
    "best_l2_value = grid_result.best_params_['l2_value']"
   ],
   "metadata": {
    "collapsed": false,
    "pycharm": {
     "name": "#%%\n"
    }
   }
  },
  {
   "cell_type": "code",
   "execution_count": 26,
   "outputs": [],
   "source": [
    "best_model = create_model(neurons=best_n_neurons, l2_value=best_l2_value)"
   ],
   "metadata": {
    "collapsed": false,
    "pycharm": {
     "name": "#%%\n"
    }
   }
  },
  {
   "cell_type": "code",
   "execution_count": 27,
   "outputs": [
    {
     "name": "stdout",
     "output_type": "stream",
     "text": [
      "Epoch 1/10\n",
      "4/4 [==============================] - 0s 48ms/step - loss: 1.0547 - accuracy: 0.5000 - val_loss: 1.1548 - val_accuracy: 0.3750\n",
      "Epoch 2/10\n",
      "4/4 [==============================] - 0s 11ms/step - loss: 0.9165 - accuracy: 0.6250 - val_loss: 1.0742 - val_accuracy: 0.4375\n",
      "Epoch 3/10\n",
      "4/4 [==============================] - 0s 9ms/step - loss: 0.8114 - accuracy: 0.7344 - val_loss: 1.0059 - val_accuracy: 0.3750\n",
      "Epoch 4/10\n",
      "4/4 [==============================] - 0s 11ms/step - loss: 0.7077 - accuracy: 0.7656 - val_loss: 0.9454 - val_accuracy: 0.5000\n",
      "Epoch 5/10\n",
      "4/4 [==============================] - 0s 10ms/step - loss: 0.6269 - accuracy: 0.8281 - val_loss: 0.8934 - val_accuracy: 0.5625\n",
      "Epoch 6/10\n",
      "4/4 [==============================] - 0s 5ms/step - loss: 0.5477 - accuracy: 0.8750 - val_loss: 0.8531 - val_accuracy: 0.5625\n",
      "Epoch 7/10\n",
      "4/4 [==============================] - 0s 5ms/step - loss: 0.4840 - accuracy: 0.9375 - val_loss: 0.8190 - val_accuracy: 0.6250\n",
      "Epoch 8/10\n",
      "4/4 [==============================] - 0s 10ms/step - loss: 0.4246 - accuracy: 0.9531 - val_loss: 0.7925 - val_accuracy: 0.5625\n",
      "Epoch 9/10\n",
      "4/4 [==============================] - 0s 10ms/step - loss: 0.3750 - accuracy: 0.9531 - val_loss: 0.7698 - val_accuracy: 0.5000\n",
      "Epoch 10/10\n",
      "4/4 [==============================] - 0s 11ms/step - loss: 0.3319 - accuracy: 0.9688 - val_loss: 0.7509 - val_accuracy: 0.5000\n"
     ]
    }
   ],
   "source": [
    "# Train the model\n",
    "history = best_model.fit(X_train_selected, y_train, epochs=10, batch_size=16, verbose=1, validation_data=(X_val_selected, y_val))"
   ],
   "metadata": {
    "collapsed": false,
    "pycharm": {
     "name": "#%%\n"
    }
   }
  },
  {
   "cell_type": "code",
   "execution_count": 28,
   "outputs": [
    {
     "name": "stdout",
     "output_type": "stream",
     "text": [
      "1/1 [==============================] - 0s 59ms/step\n",
      "Test accuracy: 0.800\n"
     ]
    }
   ],
   "source": [
    "# Evaluate the model on the test set\n",
    "y_pred = np.argmax(best_model.predict(X_test_selected), axis=-1)\n",
    "y_test = np.argmax(y_test, axis=1)\n",
    "accuracy = accuracy_score(y_test, y_pred)\n",
    "print(f\"Test accuracy: {accuracy:.3f}\")"
   ],
   "metadata": {
    "collapsed": false,
    "pycharm": {
     "name": "#%%\n"
    }
   }
  },
  {
   "cell_type": "code",
   "execution_count": 29,
   "outputs": [
    {
     "data": {
      "text/plain": "<Figure size 720x360 with 2 Axes>",
      "image/png": "[encoded data removed]"
     },
     "metadata": {},
     "output_type": "display_data"
    }
   ],
   "source": [
    "# Calculate and display the confusion matrix\n",
    "cm = confusion_matrix(y_test, y_pred)\n",
    "plt.figure(figsize=(10, 5))\n",
    "sns.heatmap(cm, annot=True, fmt='d', cmap='Blues', xticklabels=class_mapping.keys(), yticklabels=class_mapping.keys())\n",
    "plt.xlabel('Predicted')\n",
    "plt.ylabel('True')\n",
    "plt.title('Confusion Matrix')\n",
    "plt.show()"
   ],
   "metadata": {
    "collapsed": false,
    "pycharm": {
     "name": "#%%\n"
    }
   }
  },
  {
   "cell_type": "code",
   "execution_count": 30,
   "outputs": [
    {
     "data": {
      "text/plain": "<Figure size 720x360 with 1 Axes>",
      "image/png": "[encoded data removed]"
     },
     "metadata": {},
     "output_type": "display_data"
    },
    {
     "data": {
      "text/plain": "<Figure size 720x360 with 1 Axes>",
      "image/png": "[encoded data removed]"
     },
     "metadata": {},
     "output_type": "display_data"
    }
   ],
   "source": [
    "# Plot the training and validation losses\n",
    "plt.figure(figsize=(10, 5))\n",
    "plt.plot(history.history['loss'], label='Training Loss')\n",
    "plt.plot(history.history['val_loss'], label='Validation Loss')\n",
    "plt.xlabel('Epoch')\n",
    "plt.ylabel('Loss')\n",
    "plt.title('Training and Validation Losses')\n",
    "plt.legend()\n",
    "plt.show()\n",
    "\n",
    "# Plot the training and validation accuracies\n",
    "plt.figure(figsize=(10, 5))\n",
    "plt.plot(history.history['accuracy'], label='Training Accuracy')\n",
    "plt.plot(history.history['val_accuracy'], label='Validation Accuracy')\n",
    "plt.xlabel('Epoch')\n",
    "plt.ylabel('Accuracy')\n",
    "plt.title('Training and Validation Accuracies')\n",
    "plt.legend()\n",
    "plt.show()"
   ],
   "metadata": {
    "collapsed": false,
    "pycharm": {
     "name": "#%%\n"
    }
   }
  },
  {
   "cell_type": "code",
   "execution_count": 31,
   "outputs": [
    {
     "name": "stdout",
     "output_type": "stream",
     "text": [
      "Classification Report:\n",
      "               precision    recall  f1-score   support\n",
      "\n",
      "           0       0.88      1.00      0.93         7\n",
      "           1       0.71      0.71      0.71         7\n",
      "           2       0.80      0.67      0.73         6\n",
      "\n",
      "    accuracy                           0.80        20\n",
      "   macro avg       0.80      0.79      0.79        20\n",
      "weighted avg       0.80      0.80      0.79        20\n",
      "\n"
     ]
    }
   ],
   "source": [
    "class_report = classification_report(y_test, y_pred)\n",
    "print(\"Classification Report:\\n\", class_report)"
   ],
   "metadata": {
    "collapsed": false,
    "pycharm": {
     "name": "#%%\n"
    }
   }
  }
 ],
 "metadata": {
  "kernelspec": {
   "display_name": "Python 3",
   "language": "python",
   "name": "python3"
  },
  "language_info": {
   "codemirror_mode": {
    "name": "ipython",
    "version": 2
   },
   "file_extension": ".py",
   "mimetype": "text/x-python",
   "name": "python",
   "nbconvert_exporter": "python",
   "pygments_lexer": "ipython2",
   "version": "2.7.6"
  }
 },
 "nbformat": 4,
 "nbformat_minor": 0
}