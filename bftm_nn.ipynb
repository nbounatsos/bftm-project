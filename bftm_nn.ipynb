{
 "cells": [
  {
   "cell_type": "code",
   "execution_count": 120,
   "outputs": [],
   "source": [
    "%reset -f"
   ],
   "metadata": {
    "collapsed": false,
    "pycharm": {
     "name": "#%%\n"
    }
   }
  },
  {
   "cell_type": "code",
   "execution_count": 121,
   "metadata": {
    "collapsed": true,
    "pycharm": {
     "name": "#%%\n"
    }
   },
   "outputs": [],
   "source": [
    "import pandas as pd"
   ]
  },
  {
   "cell_type": "code",
   "execution_count": 122,
   "outputs": [],
   "source": [
    "X=pd.read_csv('train_call.tsv', sep='\\t')\n",
    "y=pd.read_csv('train_clinical.txt', sep='\\t', index_col=0)"
   ],
   "metadata": {
    "collapsed": false,
    "pycharm": {
     "name": "#%%\n"
    }
   }
  },
  {
   "cell_type": "code",
   "execution_count": 123,
   "outputs": [],
   "source": [
    "X = X.transpose()\n",
    "X = X.tail(-4)"
   ],
   "metadata": {
    "collapsed": false,
    "pycharm": {
     "name": "#%%\n"
    }
   }
  },
  {
   "cell_type": "markdown",
   "source": [
    "# Create a dictionary to map the string labels to integers"
   ],
   "metadata": {
    "collapsed": false,
    "pycharm": {
     "name": "#%% md\n"
    }
   }
  },
  {
   "cell_type": "code",
   "execution_count": 124,
   "outputs": [],
   "source": [
    "class_mapping = {'HER2+': 1, 'HR+': 2, 'Triple Neg': 3}\n",
    "y = y.replace(class_mapping)"
   ],
   "metadata": {
    "collapsed": false,
    "pycharm": {
     "name": "#%%\n"
    }
   }
  },
  {
   "cell_type": "markdown",
   "source": [
    "# Standardize the features"
   ],
   "metadata": {
    "collapsed": false,
    "pycharm": {
     "name": "#%% md\n"
    }
   }
  },
  {
   "cell_type": "code",
   "execution_count": 125,
   "outputs": [],
   "source": [
    "from sklearn.preprocessing import StandardScaler\n",
    "scaler = StandardScaler()\n",
    "X = scaler.fit_transform(X)"
   ],
   "metadata": {
    "collapsed": false,
    "pycharm": {
     "name": "#%%\n"
    }
   }
  },
  {
   "cell_type": "markdown",
   "source": [
    "### PCA"
   ],
   "metadata": {
    "collapsed": false,
    "pycharm": {
     "name": "#%% md\n"
    }
   }
  },
  {
   "cell_type": "code",
   "execution_count": 78,
   "outputs": [],
   "source": [
    "from sklearn.decomposition import PCA\n",
    "\n",
    "pca = PCA(n_components=2)\n",
    "X_pca = pca.fit_transform(X)"
   ],
   "metadata": {
    "collapsed": false,
    "pycharm": {
     "name": "#%%\n"
    }
   }
  },
  {
   "cell_type": "code",
   "execution_count": 79,
   "outputs": [
    {
     "data": {
      "text/plain": "<Figure size 432x288 with 1 Axes>",
      "image/png": "[encoded data removed]"
     },
     "metadata": {},
     "output_type": "display_data"
    }
   ],
   "source": [
    "import matplotlib.pyplot as plt\n",
    "\n",
    "# Assuming you have already applied PCA to your dataset\n",
    "# and the result is stored in X_pca\n",
    "pca = PCA(n_components=2)\n",
    "X_pca = pca.fit_transform(X)\n",
    "\n",
    "colors = ['r', 'g', 'b']\n",
    "class_labels = ['HER2+', 'HR+', 'Triple Neg']\n",
    "custom_cmap = {1: 'r', 2: 'g', 3: 'b'}\n",
    "fig, ax = plt.subplots()\n",
    "\n",
    "for i, label in enumerate(y['Subgroup']):\n",
    "    plt.scatter(X_pca[i, 0], X_pca[i, 1], color=custom_cmap[y['Subgroup'].iloc[i]])\n",
    "\n",
    "# Create a custom legend\n",
    "from collections import OrderedDict\n",
    "custom_legend = [plt.scatter([], [], color=custom_cmap[class_num], label=class_label) for class_label, class_num in class_mapping.items()]\n",
    "ax.legend(handles=custom_legend, loc='best')\n",
    "\n",
    "# Calculate the total variance explained by PC1 and PC2\n",
    "total_variance_explained = sum(pca.explained_variance_ratio_) * 100\n",
    "\n",
    "plt.xlabel(f'PC1 ({pca.explained_variance_ratio_[0]*100:.2f}%)')\n",
    "plt.ylabel(f'PC2 ({pca.explained_variance_ratio_[1]*100:.2f}%)')\n",
    "plt.title(f'Total variance explained: {total_variance_explained:.2f}%')\n",
    "plt.show()\n"
   ],
   "metadata": {
    "collapsed": false,
    "pycharm": {
     "name": "#%%\n"
    }
   }
  },
  {
   "cell_type": "markdown",
   "source": [
    "# Non-Linear"
   ],
   "metadata": {
    "collapsed": false,
    "pycharm": {
     "name": "#%% md\n"
    }
   }
  },
  {
   "cell_type": "markdown",
   "source": [
    "# Split data to training-validation-testing"
   ],
   "metadata": {
    "collapsed": false,
    "pycharm": {
     "name": "#%% md\n"
    }
   }
  },
  {
   "cell_type": "code",
   "execution_count": 126,
   "outputs": [],
   "source": [
    "from sklearn.model_selection import train_test_split\n",
    "X_trainval, X_test, y_trainval, y_test = train_test_split(X, y, test_size=0.2, random_state=42)\n",
    "X_train, X_val, y_train, y_val = train_test_split(X_trainval, y_trainval, test_size=0.2, random_state=42)"
   ],
   "metadata": {
    "collapsed": false,
    "pycharm": {
     "name": "#%%\n"
    }
   }
  },
  {
   "cell_type": "code",
   "execution_count": 127,
   "outputs": [],
   "source": [
    "# Check a dataframe for class balance\n",
    "def check_class_balance(df, target_column):\n",
    "    print(df[target_column].value_counts())"
   ],
   "metadata": {
    "collapsed": false,
    "pycharm": {
     "name": "#%%\n"
    }
   }
  },
  {
   "cell_type": "code",
   "execution_count": 90,
   "outputs": [
    {
     "name": "stdout",
     "output_type": "stream",
     "text": [
      "2    29\n",
      "3    26\n",
      "1    25\n",
      "Name: Subgroup, dtype: int64\n"
     ]
    }
   ],
   "source": [
    "check_class_balance(y_trainval, 'Subgroup')"
   ],
   "metadata": {
    "collapsed": false,
    "pycharm": {
     "name": "#%%\n"
    }
   }
  },
  {
   "cell_type": "code",
   "execution_count": 91,
   "outputs": [
    {
     "name": "stdout",
     "output_type": "stream",
     "text": [
      "2    22\n",
      "3    21\n",
      "1    21\n",
      "Name: Subgroup, dtype: int64\n"
     ]
    }
   ],
   "source": [
    "check_class_balance(y_train, 'Subgroup')"
   ],
   "metadata": {
    "collapsed": false,
    "pycharm": {
     "name": "#%%\n"
    }
   }
  },
  {
   "cell_type": "code",
   "execution_count": 92,
   "outputs": [
    {
     "name": "stdout",
     "output_type": "stream",
     "text": [
      "2    7\n",
      "1    7\n",
      "3    6\n",
      "Name: Subgroup, dtype: int64\n"
     ]
    }
   ],
   "source": [
    "check_class_balance(y_test, 'Subgroup')"
   ],
   "metadata": {
    "collapsed": false,
    "pycharm": {
     "name": "#%%\n"
    }
   }
  },
  {
   "cell_type": "code",
   "execution_count": 93,
   "outputs": [
    {
     "name": "stdout",
     "output_type": "stream",
     "text": [
      "2    7\n",
      "3    5\n",
      "1    4\n",
      "Name: Subgroup, dtype: int64\n"
     ]
    }
   ],
   "source": [
    "check_class_balance(y_val, 'Subgroup')"
   ],
   "metadata": {
    "collapsed": false,
    "pycharm": {
     "name": "#%%\n"
    }
   }
  },
  {
   "cell_type": "markdown",
   "source": [
    "## RFE with SVM"
   ],
   "metadata": {
    "collapsed": false,
    "pycharm": {
     "name": "#%% md\n"
    }
   }
  },
  {
   "cell_type": "code",
   "execution_count": 128,
   "outputs": [
    {
     "name": "stdout",
     "output_type": "stream",
     "text": [
      "Fitting 5 folds for each of 20 candidates, totalling 100 fits\n",
      "Validation accuracy: 0.688\n"
     ]
    }
   ],
   "source": [
    "import numpy as np\n",
    "from sklearn.svm import SVC\n",
    "from sklearn.pipeline import Pipeline\n",
    "from sklearn.feature_selection import RFE\n",
    "from sklearn.model_selection import RandomizedSearchCV\n",
    "from sklearn.metrics import accuracy_score\n",
    "\n",
    "# Create a pipeline with RFE and SVM\n",
    "pipe = Pipeline([('feature_selection', RFE(SVC(kernel='linear'))), ('classifier', SVC())])\n",
    "\n",
    "# Define the parameter grid\n",
    "param_grid = {\n",
    "    'feature_selection__n_features_to_select': np.arange(10, 100, 5),\n",
    "    'classifier__C': np.logspace(-3, 3, 7),\n",
    "    'classifier__kernel': ['linear'],\n",
    "    'classifier__degree': [2, 3, 4],\n",
    "    'classifier__gamma': ['scale', 'auto']\n",
    "}\n",
    "\n",
    "# Create the RandomizedSearchCV with 5-fold cross-validation\n",
    "random_search = RandomizedSearchCV(pipe, param_distributions=param_grid, n_iter=20, cv=5, verbose=2, n_jobs=-1)\n",
    "\n",
    "# Fit the RandomizedSearchCV on the training data\n",
    "random_search.fit(X_train, y_train.values.ravel())\n",
    "\n",
    "# Get the best pipeline\n",
    "best_pipeline = random_search.best_estimator_\n",
    "\n",
    "# Transform the data using the best RFE\n",
    "X_train_selected = best_pipeline.named_steps['feature_selection'].transform(X_train)\n",
    "X_val_selected = best_pipeline.named_steps['feature_selection'].transform(X_val)\n",
    "X_test_selected = best_pipeline.named_steps['feature_selection'].transform(X_test)\n",
    "\n",
    "# Fit the best pipeline on the training data\n",
    "best_pipeline.fit(X_train_selected, y_train.values.ravel())\n",
    "\n",
    "# Evaluate the best pipeline on the validation set\n",
    "y_val_pred = best_pipeline.predict(X_val_selected)\n",
    "accuracy = accuracy_score(y_val.values.ravel(), y_val_pred)\n",
    "print(f\"Validation accuracy: {accuracy:.3f}\")"
   ],
   "metadata": {
    "collapsed": false,
    "pycharm": {
     "name": "#%%\n"
    }
   }
  },
  {
   "cell_type": "code",
   "execution_count": 129,
   "outputs": [
    {
     "name": "stdout",
     "output_type": "stream",
     "text": [
      "Optimal number of features: 30\n"
     ]
    }
   ],
   "source": [
    "optimal_n = best_pipeline.named_steps['feature_selection'].n_features_\n",
    "print(f\"Optimal number of features: {optimal_n}\")"
   ],
   "metadata": {
    "collapsed": false,
    "pycharm": {
     "name": "#%%\n"
    }
   }
  },
  {
   "cell_type": "markdown",
   "source": [
    "# Random Forest feature selection"
   ],
   "metadata": {
    "collapsed": false,
    "pycharm": {
     "name": "#%% md\n"
    }
   }
  },
  {
   "cell_type": "markdown",
   "source": [],
   "metadata": {
    "collapsed": false,
    "pycharm": {
     "name": "#%% md\n"
    }
   }
  },
  {
   "cell_type": "code",
   "execution_count": 94,
   "outputs": [],
   "source": [
    "import numpy as np\n",
    "from sklearn.ensemble import RandomForestClassifier\n",
    "from sklearn.model_selection import GridSearchCV\n",
    "from sklearn.metrics import accuracy_score\n",
    "from sklearn.model_selection import cross_val_score\n",
    "\n",
    "param_grid = {\n",
    "    'n_estimators': [5, 50, 100, 150, 200, 250, 300],\n",
    "    'max_depth': [None, 5, 10, 15, 20, 30],\n",
    "    'min_samples_split': [2, 4, 5, 7, 10],\n",
    "    'min_samples_leaf': [1, 2, 3, 4],\n",
    "    'bootstrap': [True, False]\n",
    "}\n",
    "\n",
    "rf = RandomForestClassifier()"
   ],
   "metadata": {
    "collapsed": false,
    "pycharm": {
     "name": "#%%\n"
    }
   }
  },
  {
   "cell_type": "markdown",
   "source": [
    "# Initialize a 10-fold cross-validated grid search"
   ],
   "metadata": {
    "collapsed": false,
    "pycharm": {
     "name": "#%% md\n"
    }
   }
  },
  {
   "cell_type": "code",
   "execution_count": 95,
   "outputs": [],
   "source": [
    "grid_search = GridSearchCV(estimator=rf, param_grid=param_grid, cv=10, n_jobs=-1, scoring='accuracy')"
   ],
   "metadata": {
    "collapsed": false,
    "pycharm": {
     "name": "#%%\n"
    }
   }
  },
  {
   "cell_type": "markdown",
   "source": [
    "# Fit the grid search on the training data"
   ],
   "metadata": {
    "collapsed": false,
    "pycharm": {
     "name": "#%% md\n"
    }
   }
  },
  {
   "cell_type": "code",
   "execution_count": 96,
   "outputs": [
    {
     "data": {
      "text/plain": "GridSearchCV(cv=10, estimator=RandomForestClassifier(), n_jobs=-1,\n             param_grid={'bootstrap': [True, False],\n                         'max_depth': [None, 5, 10, 15, 20, 30],\n                         'min_samples_leaf': [1, 2, 3, 4],\n                         'min_samples_split': [2, 4, 5, 7, 10],\n                         'n_estimators': [5, 50, 100, 150, 200, 250, 300]},\n             scoring='accuracy')"
     },
     "execution_count": 96,
     "metadata": {},
     "output_type": "execute_result"
    }
   ],
   "source": [
    "grid_search.fit(X_train, y_train.values.ravel())"
   ],
   "metadata": {
    "collapsed": false,
    "pycharm": {
     "name": "#%%\n"
    }
   }
  },
  {
   "cell_type": "markdown",
   "source": [
    "# Get the best model"
   ],
   "metadata": {
    "collapsed": false,
    "pycharm": {
     "name": "#%% md\n"
    }
   }
  },
  {
   "cell_type": "code",
   "execution_count": 97,
   "outputs": [],
   "source": [
    "best_rf = grid_search.best_estimator_"
   ],
   "metadata": {
    "collapsed": false,
    "pycharm": {
     "name": "#%%\n"
    }
   }
  },
  {
   "cell_type": "markdown",
   "source": [
    "# Get the feature importances from the best Random Forest model"
   ],
   "metadata": {
    "collapsed": false,
    "pycharm": {
     "name": "#%% md\n"
    }
   }
  },
  {
   "cell_type": "code",
   "execution_count": 98,
   "outputs": [],
   "source": [
    "feature_importances = best_rf.feature_importances_"
   ],
   "metadata": {
    "collapsed": false,
    "pycharm": {
     "name": "#%%\n"
    }
   }
  },
  {
   "cell_type": "markdown",
   "source": [
    "# Select the n optimal features"
   ],
   "metadata": {
    "collapsed": false,
    "pycharm": {
     "name": "#%% md\n"
    }
   }
  },
  {
   "cell_type": "code",
   "execution_count": 99,
   "outputs": [],
   "source": [
    "cv_scores = []\n",
    "n_val = range(1, 300, 5)"
   ],
   "metadata": {
    "collapsed": false,
    "pycharm": {
     "name": "#%%\n"
    }
   }
  },
  {
   "cell_type": "code",
   "execution_count": 100,
   "outputs": [],
   "source": [
    "for n in n_val:\n",
    "    top_n_indices = np.argsort(feature_importances)[-n:]\n",
    "    X_train_selected = X_train[:, top_n_indices]\n",
    "    cv_score = np.mean(cross_val_score(best_rf, X_train_selected, y_train.values.ravel(), cv=10, scoring='accuracy'))\n",
    "    cv_scores.append(cv_score)\n",
    "\n",
    "optimal_n = n_val[np.argmax(cv_scores)]"
   ],
   "metadata": {
    "collapsed": false,
    "pycharm": {
     "name": "#%%\n"
    }
   }
  },
  {
   "cell_type": "markdown",
   "source": [
    "# Select the top optimal_n features"
   ],
   "metadata": {
    "collapsed": false,
    "pycharm": {
     "name": "#%% md\n"
    }
   }
  },
  {
   "cell_type": "code",
   "execution_count": 101,
   "outputs": [],
   "source": [
    "X_train_selected = X_train[:, np.argsort(feature_importances)[-optimal_n:]]\n",
    "X_val_selected = X_val[:, np.argsort(feature_importances)[-optimal_n:]]\n",
    "X_test_selected = X_test[:, np.argsort(feature_importances)[-optimal_n:]]"
   ],
   "metadata": {
    "collapsed": false,
    "pycharm": {
     "name": "#%%\n"
    }
   }
  },
  {
   "cell_type": "markdown",
   "source": [
    "# Retrain the best model on the selected features"
   ],
   "metadata": {
    "collapsed": false,
    "pycharm": {
     "name": "#%% md\n"
    }
   }
  },
  {
   "cell_type": "code",
   "execution_count": 102,
   "outputs": [
    {
     "data": {
      "text/plain": "RandomForestClassifier(min_samples_split=5, n_estimators=150)"
     },
     "execution_count": 102,
     "metadata": {},
     "output_type": "execute_result"
    }
   ],
   "source": [
    "best_rf.fit(X_train_selected, y_train.values.ravel())"
   ],
   "metadata": {
    "collapsed": false,
    "pycharm": {
     "name": "#%%\n"
    }
   }
  },
  {
   "cell_type": "markdown",
   "source": [
    "# Evaluate the retrained model on the validation set"
   ],
   "metadata": {
    "collapsed": false,
    "pycharm": {
     "name": "#%% md\n"
    }
   }
  },
  {
   "cell_type": "code",
   "execution_count": 103,
   "outputs": [
    {
     "name": "stdout",
     "output_type": "stream",
     "text": [
      "Optimal n: 16\n",
      "Validation accuracy: 0.6875\n"
     ]
    }
   ],
   "source": [
    "y_val_pred = best_rf.predict(X_val_selected)\n",
    "accuracy = accuracy_score(y_val.values.ravel(), y_val_pred)\n",
    "\n",
    "print(f\"Optimal n: {optimal_n}\")\n",
    "print(f\"Validation accuracy: {accuracy}\")"
   ],
   "metadata": {
    "collapsed": false,
    "pycharm": {
     "name": "#%%\n"
    }
   }
  },
  {
   "cell_type": "code",
   "execution_count": 130,
   "outputs": [],
   "source": [
    "import numpy as np\n",
    "from sklearn.metrics import accuracy_score, confusion_matrix, classification_report\n",
    "from tensorflow.keras.models import Sequential\n",
    "from tensorflow.keras.layers import Dense, Dropout\n",
    "from tensorflow.keras.utils import to_categorical\n",
    "from tensorflow.keras.regularizers import l2\n",
    "from tensorflow.keras.wrappers.scikit_learn import KerasClassifier\n",
    "import matplotlib.pyplot as plt\n",
    "import seaborn as sns"
   ],
   "metadata": {
    "collapsed": false,
    "pycharm": {
     "name": "#%%\n"
    }
   }
  },
  {
   "cell_type": "code",
   "execution_count": 131,
   "outputs": [],
   "source": [
    "# One-hot encode the target variable\n",
    "y_trainval = to_categorical(y_trainval - 1, num_classes=3)\n",
    "y_test = to_categorical(y_test - 1, num_classes=3)\n",
    "y_val = to_categorical(y_val - 1, num_classes=3)\n",
    "y_train = to_categorical(y_train - 1, num_classes=3)"
   ],
   "metadata": {
    "collapsed": false,
    "pycharm": {
     "name": "#%%\n"
    }
   }
  },
  {
   "cell_type": "code",
   "execution_count": 132,
   "outputs": [],
   "source": [
    "# Build the neural network model with L2 regularization\n",
    "def create_model(neurons, l2_value):\n",
    "    model = Sequential()\n",
    "    model.add(Dense(neurons, input_shape=(optimal_n,), activation='relu', kernel_regularizer=l2(l2_value)))\n",
    "    model.add(Dense(3, activation='softmax', kernel_regularizer=l2(0.001)))\n",
    "    model.compile(optimizer='adam', loss='categorical_crossentropy', metrics=['accuracy'])\n",
    "    return model"
   ],
   "metadata": {
    "collapsed": false,
    "pycharm": {
     "name": "#%%\n"
    }
   }
  },
  {
   "cell_type": "code",
   "execution_count": 133,
   "outputs": [
    {
     "name": "stderr",
     "output_type": "stream",
     "text": [
      "C:\\Users\\nikos\\AppData\\Local\\Temp\\ipykernel_5700\\3330881601.py:1: DeprecationWarning: KerasClassifier is deprecated, use Sci-Keras (https://github.com/adriangb/scikeras) instead. See https://www.adriangb.com/scikeras/stable/migration.html for help migrating.\n",
      "  model = KerasClassifier(build_fn=create_model, epochs=100, batch_size=16, verbose=0)\n"
     ]
    }
   ],
   "source": [
    "model = KerasClassifier(build_fn=create_model, epochs=100, batch_size=16, verbose=0)"
   ],
   "metadata": {
    "collapsed": false,
    "pycharm": {
     "name": "#%%\n"
    }
   }
  },
  {
   "cell_type": "code",
   "execution_count": 134,
   "outputs": [],
   "source": [
    "param_grid = {\n",
    "    'neurons': [16, 32, 64, 128],\n",
    "    'l2_value': [0.0001, 0.001, 0.01, 0.1]\n",
    "}"
   ],
   "metadata": {
    "collapsed": false,
    "pycharm": {
     "name": "#%%\n"
    }
   }
  },
  {
   "cell_type": "code",
   "execution_count": 135,
   "outputs": [],
   "source": [
    "from sklearn.model_selection import GridSearchCV\n",
    "grid = GridSearchCV(estimator=model, param_grid=param_grid, cv=5, verbose=2)"
   ],
   "metadata": {
    "collapsed": false,
    "pycharm": {
     "name": "#%%\n"
    }
   }
  },
  {
   "cell_type": "code",
   "execution_count": 136,
   "outputs": [
    {
     "name": "stdout",
     "output_type": "stream",
     "text": [
      "Fitting 5 folds for each of 16 candidates, totalling 80 fits\n",
      "[CV] END ........................l2_value=0.0001, neurons=16; total time=   0.7s\n",
      "[CV] END ........................l2_value=0.0001, neurons=16; total time=   0.7s\n",
      "[CV] END ........................l2_value=0.0001, neurons=16; total time=   0.7s\n",
      "[CV] END ........................l2_value=0.0001, neurons=16; total time=   0.6s\n",
      "[CV] END ........................l2_value=0.0001, neurons=16; total time=   0.6s\n",
      "[CV] END ........................l2_value=0.0001, neurons=32; total time=   0.6s\n",
      "[CV] END ........................l2_value=0.0001, neurons=32; total time=   0.6s\n",
      "[CV] END ........................l2_value=0.0001, neurons=32; total time=   0.6s\n",
      "[CV] END ........................l2_value=0.0001, neurons=32; total time=   0.6s\n",
      "[CV] END ........................l2_value=0.0001, neurons=32; total time=   0.6s\n",
      "[CV] END ........................l2_value=0.0001, neurons=64; total time=   0.7s\n",
      "[CV] END ........................l2_value=0.0001, neurons=64; total time=   0.7s\n",
      "[CV] END ........................l2_value=0.0001, neurons=64; total time=   0.7s\n",
      "[CV] END ........................l2_value=0.0001, neurons=64; total time=   0.7s\n",
      "[CV] END ........................l2_value=0.0001, neurons=64; total time=   0.7s\n",
      "[CV] END .......................l2_value=0.0001, neurons=128; total time=   0.6s\n",
      "[CV] END .......................l2_value=0.0001, neurons=128; total time=   0.6s\n",
      "[CV] END .......................l2_value=0.0001, neurons=128; total time=   0.6s\n",
      "[CV] END .......................l2_value=0.0001, neurons=128; total time=   0.9s\n",
      "[CV] END .......................l2_value=0.0001, neurons=128; total time=   0.6s\n",
      "[CV] END .........................l2_value=0.001, neurons=16; total time=   0.6s\n",
      "[CV] END .........................l2_value=0.001, neurons=16; total time=   0.7s\n",
      "[CV] END .........................l2_value=0.001, neurons=16; total time=   0.7s\n",
      "[CV] END .........................l2_value=0.001, neurons=16; total time=   0.7s\n",
      "[CV] END .........................l2_value=0.001, neurons=16; total time=   0.7s\n",
      "[CV] END .........................l2_value=0.001, neurons=32; total time=   0.7s\n",
      "[CV] END .........................l2_value=0.001, neurons=32; total time=   0.7s\n",
      "[CV] END .........................l2_value=0.001, neurons=32; total time=   0.6s\n",
      "[CV] END .........................l2_value=0.001, neurons=32; total time=   0.6s\n",
      "[CV] END .........................l2_value=0.001, neurons=32; total time=   0.6s\n",
      "[CV] END .........................l2_value=0.001, neurons=64; total time=   0.7s\n",
      "[CV] END .........................l2_value=0.001, neurons=64; total time=   0.6s\n",
      "[CV] END .........................l2_value=0.001, neurons=64; total time=   0.6s\n",
      "[CV] END .........................l2_value=0.001, neurons=64; total time=   0.6s\n",
      "[CV] END .........................l2_value=0.001, neurons=64; total time=   0.7s\n",
      "[CV] END ........................l2_value=0.001, neurons=128; total time=   0.7s\n",
      "[CV] END ........................l2_value=0.001, neurons=128; total time=   0.7s\n",
      "[CV] END ........................l2_value=0.001, neurons=128; total time=   0.7s\n",
      "[CV] END ........................l2_value=0.001, neurons=128; total time=   0.7s\n",
      "[CV] END ........................l2_value=0.001, neurons=128; total time=   0.6s\n",
      "[CV] END ..........................l2_value=0.01, neurons=16; total time=   0.9s\n",
      "[CV] END ..........................l2_value=0.01, neurons=16; total time=   0.6s\n",
      "[CV] END ..........................l2_value=0.01, neurons=16; total time=   0.6s\n",
      "[CV] END ..........................l2_value=0.01, neurons=16; total time=   0.6s\n",
      "[CV] END ..........................l2_value=0.01, neurons=16; total time=   0.6s\n",
      "[CV] END ..........................l2_value=0.01, neurons=32; total time=   0.7s\n",
      "[CV] END ..........................l2_value=0.01, neurons=32; total time=   0.7s\n",
      "[CV] END ..........................l2_value=0.01, neurons=32; total time=   0.7s\n",
      "[CV] END ..........................l2_value=0.01, neurons=32; total time=   0.7s\n",
      "[CV] END ..........................l2_value=0.01, neurons=32; total time=   0.7s\n",
      "[CV] END ..........................l2_value=0.01, neurons=64; total time=   0.7s\n",
      "[CV] END ..........................l2_value=0.01, neurons=64; total time=   0.6s\n",
      "[CV] END ..........................l2_value=0.01, neurons=64; total time=   0.6s\n",
      "[CV] END ..........................l2_value=0.01, neurons=64; total time=   0.7s\n",
      "[CV] END ..........................l2_value=0.01, neurons=64; total time=   0.6s\n",
      "[CV] END .........................l2_value=0.01, neurons=128; total time=   0.6s\n",
      "[CV] END .........................l2_value=0.01, neurons=128; total time=   0.6s\n",
      "[CV] END .........................l2_value=0.01, neurons=128; total time=   0.7s\n",
      "[CV] END .........................l2_value=0.01, neurons=128; total time=   0.7s\n",
      "[CV] END .........................l2_value=0.01, neurons=128; total time=   0.7s\n",
      "[CV] END ...........................l2_value=0.1, neurons=16; total time=   0.7s\n",
      "[CV] END ...........................l2_value=0.1, neurons=16; total time=   1.0s\n",
      "[CV] END ...........................l2_value=0.1, neurons=16; total time=   0.6s\n",
      "[CV] END ...........................l2_value=0.1, neurons=16; total time=   0.6s\n",
      "[CV] END ...........................l2_value=0.1, neurons=16; total time=   0.6s\n",
      "[CV] END ...........................l2_value=0.1, neurons=32; total time=   0.6s\n",
      "[CV] END ...........................l2_value=0.1, neurons=32; total time=   0.6s\n",
      "[CV] END ...........................l2_value=0.1, neurons=32; total time=   0.6s\n",
      "[CV] END ...........................l2_value=0.1, neurons=32; total time=   0.6s\n",
      "[CV] END ...........................l2_value=0.1, neurons=32; total time=   0.7s\n",
      "[CV] END ...........................l2_value=0.1, neurons=64; total time=   0.7s\n",
      "[CV] END ...........................l2_value=0.1, neurons=64; total time=   0.7s\n",
      "[CV] END ...........................l2_value=0.1, neurons=64; total time=   0.7s\n",
      "[CV] END ...........................l2_value=0.1, neurons=64; total time=   0.7s\n",
      "[CV] END ...........................l2_value=0.1, neurons=64; total time=   0.6s\n",
      "[CV] END ..........................l2_value=0.1, neurons=128; total time=   0.6s\n",
      "[CV] END ..........................l2_value=0.1, neurons=128; total time=   0.6s\n",
      "[CV] END ..........................l2_value=0.1, neurons=128; total time=   0.6s\n",
      "[CV] END ..........................l2_value=0.1, neurons=128; total time=   0.6s\n",
      "[CV] END ..........................l2_value=0.1, neurons=128; total time=   0.6s\n"
     ]
    }
   ],
   "source": [
    "grid_result = grid.fit(X_train_selected, y_train)"
   ],
   "metadata": {
    "collapsed": false,
    "pycharm": {
     "name": "#%%\n"
    }
   }
  },
  {
   "cell_type": "code",
   "execution_count": 137,
   "outputs": [
    {
     "name": "stdout",
     "output_type": "stream",
     "text": [
      "Best: 1.000000 using {'l2_value': 0.0001, 'neurons': 128}\n"
     ]
    }
   ],
   "source": [
    "print(\"Best: %f using %s\" % (grid_result.best_score_, grid_result.best_params_))"
   ],
   "metadata": {
    "collapsed": false,
    "pycharm": {
     "name": "#%%\n"
    }
   }
  },
  {
   "cell_type": "code",
   "execution_count": 138,
   "outputs": [],
   "source": [
    "best_n_neurons = grid_result.best_params_['neurons']\n",
    "best_l2_value = grid_result.best_params_['l2_value']"
   ],
   "metadata": {
    "collapsed": false,
    "pycharm": {
     "name": "#%%\n"
    }
   }
  },
  {
   "cell_type": "code",
   "execution_count": 139,
   "outputs": [],
   "source": [
    "best_model = create_model(neurons=best_n_neurons, l2_value=best_l2_value)"
   ],
   "metadata": {
    "collapsed": false,
    "pycharm": {
     "name": "#%%\n"
    }
   }
  },
  {
   "cell_type": "code",
   "execution_count": 140,
   "outputs": [
    {
     "name": "stdout",
     "output_type": "stream",
     "text": [
      "Epoch 1/100\n",
      "4/4 [==============================] - 0s 32ms/step - loss: 1.0256 - accuracy: 0.3906 - val_loss: 1.0538 - val_accuracy: 0.5000\n",
      "Epoch 2/100\n",
      "4/4 [==============================] - 0s 8ms/step - loss: 0.8559 - accuracy: 0.6250 - val_loss: 0.9684 - val_accuracy: 0.5625\n",
      "Epoch 3/100\n",
      "4/4 [==============================] - 0s 5ms/step - loss: 0.7207 - accuracy: 0.7969 - val_loss: 0.9027 - val_accuracy: 0.6250\n",
      "Epoch 4/100\n",
      "4/4 [==============================] - 0s 10ms/step - loss: 0.6112 - accuracy: 0.9062 - val_loss: 0.8489 - val_accuracy: 0.6250\n",
      "Epoch 5/100\n",
      "4/4 [==============================] - 0s 5ms/step - loss: 0.5194 - accuracy: 0.9688 - val_loss: 0.8069 - val_accuracy: 0.6875\n",
      "Epoch 6/100\n",
      "4/4 [==============================] - 0s 11ms/step - loss: 0.4410 - accuracy: 0.9844 - val_loss: 0.7755 - val_accuracy: 0.6875\n",
      "Epoch 7/100\n",
      "4/4 [==============================] - 0s 9ms/step - loss: 0.3761 - accuracy: 0.9844 - val_loss: 0.7507 - val_accuracy: 0.6875\n",
      "Epoch 8/100\n",
      "4/4 [==============================] - 0s 5ms/step - loss: 0.3220 - accuracy: 0.9844 - val_loss: 0.7316 - val_accuracy: 0.6875\n",
      "Epoch 9/100\n",
      "4/4 [==============================] - 0s 6ms/step - loss: 0.2781 - accuracy: 0.9844 - val_loss: 0.7176 - val_accuracy: 0.6875\n",
      "Epoch 10/100\n",
      "4/4 [==============================] - 0s 5ms/step - loss: 0.2396 - accuracy: 1.0000 - val_loss: 0.7074 - val_accuracy: 0.6875\n",
      "Epoch 11/100\n",
      "4/4 [==============================] - 0s 11ms/step - loss: 0.2087 - accuracy: 1.0000 - val_loss: 0.6998 - val_accuracy: 0.6875\n",
      "Epoch 12/100\n",
      "4/4 [==============================] - 0s 9ms/step - loss: 0.1835 - accuracy: 1.0000 - val_loss: 0.6956 - val_accuracy: 0.6250\n",
      "Epoch 13/100\n",
      "4/4 [==============================] - 0s 5ms/step - loss: 0.1626 - accuracy: 1.0000 - val_loss: 0.6924 - val_accuracy: 0.6250\n",
      "Epoch 14/100\n",
      "4/4 [==============================] - 0s 6ms/step - loss: 0.1440 - accuracy: 1.0000 - val_loss: 0.6904 - val_accuracy: 0.6250\n",
      "Epoch 15/100\n",
      "4/4 [==============================] - 0s 5ms/step - loss: 0.1289 - accuracy: 1.0000 - val_loss: 0.6906 - val_accuracy: 0.6250\n",
      "Epoch 16/100\n",
      "4/4 [==============================] - 0s 10ms/step - loss: 0.1164 - accuracy: 1.0000 - val_loss: 0.6906 - val_accuracy: 0.6250\n",
      "Epoch 17/100\n",
      "4/4 [==============================] - 0s 6ms/step - loss: 0.1055 - accuracy: 1.0000 - val_loss: 0.6922 - val_accuracy: 0.6250\n",
      "Epoch 18/100\n",
      "4/4 [==============================] - 0s 10ms/step - loss: 0.0960 - accuracy: 1.0000 - val_loss: 0.6939 - val_accuracy: 0.6250\n",
      "Epoch 19/100\n",
      "4/4 [==============================] - 0s 5ms/step - loss: 0.0884 - accuracy: 1.0000 - val_loss: 0.6953 - val_accuracy: 0.6250\n",
      "Epoch 20/100\n",
      "4/4 [==============================] - 0s 10ms/step - loss: 0.0818 - accuracy: 1.0000 - val_loss: 0.6977 - val_accuracy: 0.6250\n",
      "Epoch 21/100\n",
      "4/4 [==============================] - 0s 7ms/step - loss: 0.0755 - accuracy: 1.0000 - val_loss: 0.7003 - val_accuracy: 0.6250\n",
      "Epoch 22/100\n",
      "4/4 [==============================] - 0s 4ms/step - loss: 0.0702 - accuracy: 1.0000 - val_loss: 0.7025 - val_accuracy: 0.6250\n",
      "Epoch 23/100\n",
      "4/4 [==============================] - 0s 5ms/step - loss: 0.0657 - accuracy: 1.0000 - val_loss: 0.7057 - val_accuracy: 0.6250\n",
      "Epoch 24/100\n",
      "4/4 [==============================] - 0s 5ms/step - loss: 0.0616 - accuracy: 1.0000 - val_loss: 0.7085 - val_accuracy: 0.6250\n",
      "Epoch 25/100\n",
      "4/4 [==============================] - 0s 5ms/step - loss: 0.0581 - accuracy: 1.0000 - val_loss: 0.7112 - val_accuracy: 0.6250\n",
      "Epoch 26/100\n",
      "4/4 [==============================] - 0s 3ms/step - loss: 0.0551 - accuracy: 1.0000 - val_loss: 0.7142 - val_accuracy: 0.6250\n",
      "Epoch 27/100\n",
      "4/4 [==============================] - 0s 12ms/step - loss: 0.0521 - accuracy: 1.0000 - val_loss: 0.7171 - val_accuracy: 0.6250\n",
      "Epoch 28/100\n",
      "4/4 [==============================] - 0s 7ms/step - loss: 0.0496 - accuracy: 1.0000 - val_loss: 0.7201 - val_accuracy: 0.6250\n",
      "Epoch 29/100\n",
      "4/4 [==============================] - 0s 7ms/step - loss: 0.0474 - accuracy: 1.0000 - val_loss: 0.7232 - val_accuracy: 0.6250\n",
      "Epoch 30/100\n",
      "4/4 [==============================] - 0s 4ms/step - loss: 0.0455 - accuracy: 1.0000 - val_loss: 0.7267 - val_accuracy: 0.6250\n",
      "Epoch 31/100\n",
      "4/4 [==============================] - 0s 11ms/step - loss: 0.0435 - accuracy: 1.0000 - val_loss: 0.7301 - val_accuracy: 0.6250\n",
      "Epoch 32/100\n",
      "4/4 [==============================] - 0s 8ms/step - loss: 0.0419 - accuracy: 1.0000 - val_loss: 0.7333 - val_accuracy: 0.6250\n",
      "Epoch 33/100\n",
      "4/4 [==============================] - 0s 8ms/step - loss: 0.0404 - accuracy: 1.0000 - val_loss: 0.7367 - val_accuracy: 0.6250\n",
      "Epoch 34/100\n",
      "4/4 [==============================] - 0s 5ms/step - loss: 0.0390 - accuracy: 1.0000 - val_loss: 0.7397 - val_accuracy: 0.6250\n",
      "Epoch 35/100\n",
      "4/4 [==============================] - 0s 7ms/step - loss: 0.0377 - accuracy: 1.0000 - val_loss: 0.7430 - val_accuracy: 0.6250\n",
      "Epoch 36/100\n",
      "4/4 [==============================] - 0s 5ms/step - loss: 0.0364 - accuracy: 1.0000 - val_loss: 0.7460 - val_accuracy: 0.6250\n",
      "Epoch 37/100\n",
      "4/4 [==============================] - 0s 10ms/step - loss: 0.0354 - accuracy: 1.0000 - val_loss: 0.7491 - val_accuracy: 0.6250\n",
      "Epoch 38/100\n",
      "4/4 [==============================] - 0s 7ms/step - loss: 0.0344 - accuracy: 1.0000 - val_loss: 0.7524 - val_accuracy: 0.6250\n",
      "Epoch 39/100\n",
      "4/4 [==============================] - 0s 4ms/step - loss: 0.0335 - accuracy: 1.0000 - val_loss: 0.7557 - val_accuracy: 0.6250\n",
      "Epoch 40/100\n",
      "4/4 [==============================] - 0s 5ms/step - loss: 0.0326 - accuracy: 1.0000 - val_loss: 0.7592 - val_accuracy: 0.6250\n",
      "Epoch 41/100\n",
      "4/4 [==============================] - 0s 5ms/step - loss: 0.0318 - accuracy: 1.0000 - val_loss: 0.7624 - val_accuracy: 0.6250\n",
      "Epoch 42/100\n",
      "4/4 [==============================] - 0s 11ms/step - loss: 0.0311 - accuracy: 1.0000 - val_loss: 0.7655 - val_accuracy: 0.6250\n",
      "Epoch 43/100\n",
      "4/4 [==============================] - 0s 5ms/step - loss: 0.0304 - accuracy: 1.0000 - val_loss: 0.7684 - val_accuracy: 0.6250\n",
      "Epoch 44/100\n",
      "4/4 [==============================] - 0s 11ms/step - loss: 0.0297 - accuracy: 1.0000 - val_loss: 0.7717 - val_accuracy: 0.6250\n",
      "Epoch 45/100\n",
      "4/4 [==============================] - 0s 3ms/step - loss: 0.0291 - accuracy: 1.0000 - val_loss: 0.7746 - val_accuracy: 0.6250\n",
      "Epoch 46/100\n",
      "4/4 [==============================] - 0s 10ms/step - loss: 0.0286 - accuracy: 1.0000 - val_loss: 0.7772 - val_accuracy: 0.6250\n",
      "Epoch 47/100\n",
      "4/4 [==============================] - 0s 8ms/step - loss: 0.0281 - accuracy: 1.0000 - val_loss: 0.7803 - val_accuracy: 0.6250\n",
      "Epoch 48/100\n",
      "4/4 [==============================] - 0s 4ms/step - loss: 0.0275 - accuracy: 1.0000 - val_loss: 0.7831 - val_accuracy: 0.6250\n",
      "Epoch 49/100\n",
      "4/4 [==============================] - 0s 5ms/step - loss: 0.0271 - accuracy: 1.0000 - val_loss: 0.7862 - val_accuracy: 0.6250\n",
      "Epoch 50/100\n",
      "4/4 [==============================] - 0s 5ms/step - loss: 0.0266 - accuracy: 1.0000 - val_loss: 0.7894 - val_accuracy: 0.6250\n",
      "Epoch 51/100\n",
      "4/4 [==============================] - 0s 5ms/step - loss: 0.0262 - accuracy: 1.0000 - val_loss: 0.7921 - val_accuracy: 0.6250\n",
      "Epoch 52/100\n",
      "4/4 [==============================] - 0s 3ms/step - loss: 0.0258 - accuracy: 1.0000 - val_loss: 0.7951 - val_accuracy: 0.6250\n",
      "Epoch 53/100\n",
      "4/4 [==============================] - 0s 11ms/step - loss: 0.0254 - accuracy: 1.0000 - val_loss: 0.7977 - val_accuracy: 0.6250\n",
      "Epoch 54/100\n",
      "4/4 [==============================] - 0s 7ms/step - loss: 0.0251 - accuracy: 1.0000 - val_loss: 0.8005 - val_accuracy: 0.6250\n",
      "Epoch 55/100\n",
      "4/4 [==============================] - 0s 7ms/step - loss: 0.0248 - accuracy: 1.0000 - val_loss: 0.8032 - val_accuracy: 0.6250\n",
      "Epoch 56/100\n",
      "4/4 [==============================] - 0s 4ms/step - loss: 0.0245 - accuracy: 1.0000 - val_loss: 0.8059 - val_accuracy: 0.6250\n",
      "Epoch 57/100\n",
      "4/4 [==============================] - 0s 10ms/step - loss: 0.0242 - accuracy: 1.0000 - val_loss: 0.8085 - val_accuracy: 0.6250\n",
      "Epoch 58/100\n",
      "4/4 [==============================] - 0s 5ms/step - loss: 0.0239 - accuracy: 1.0000 - val_loss: 0.8110 - val_accuracy: 0.6250\n",
      "Epoch 59/100\n",
      "4/4 [==============================] - 0s 7ms/step - loss: 0.0236 - accuracy: 1.0000 - val_loss: 0.8137 - val_accuracy: 0.6250\n",
      "Epoch 60/100\n",
      "4/4 [==============================] - 0s 4ms/step - loss: 0.0234 - accuracy: 1.0000 - val_loss: 0.8162 - val_accuracy: 0.6250\n",
      "Epoch 61/100\n",
      "4/4 [==============================] - 0s 10ms/step - loss: 0.0231 - accuracy: 1.0000 - val_loss: 0.8188 - val_accuracy: 0.6250\n",
      "Epoch 62/100\n",
      "4/4 [==============================] - 0s 5ms/step - loss: 0.0229 - accuracy: 1.0000 - val_loss: 0.8212 - val_accuracy: 0.6250\n",
      "Epoch 63/100\n",
      "4/4 [==============================] - 0s 6ms/step - loss: 0.0227 - accuracy: 1.0000 - val_loss: 0.8238 - val_accuracy: 0.6250\n",
      "Epoch 64/100\n",
      "4/4 [==============================] - 0s 10ms/step - loss: 0.0225 - accuracy: 1.0000 - val_loss: 0.8263 - val_accuracy: 0.6250\n",
      "Epoch 65/100\n",
      "4/4 [==============================] - 0s 6ms/step - loss: 0.0223 - accuracy: 1.0000 - val_loss: 0.8286 - val_accuracy: 0.6250\n",
      "Epoch 66/100\n",
      "4/4 [==============================] - 0s 9ms/step - loss: 0.0221 - accuracy: 1.0000 - val_loss: 0.8308 - val_accuracy: 0.6250\n",
      "Epoch 67/100\n",
      "4/4 [==============================] - 0s 5ms/step - loss: 0.0219 - accuracy: 1.0000 - val_loss: 0.8332 - val_accuracy: 0.6250\n",
      "Epoch 68/100\n",
      "4/4 [==============================] - 0s 6ms/step - loss: 0.0217 - accuracy: 1.0000 - val_loss: 0.8357 - val_accuracy: 0.6250\n",
      "Epoch 69/100\n",
      "4/4 [==============================] - 0s 6ms/step - loss: 0.0215 - accuracy: 1.0000 - val_loss: 0.8382 - val_accuracy: 0.6250\n",
      "Epoch 70/100\n",
      "4/4 [==============================] - 0s 10ms/step - loss: 0.0214 - accuracy: 1.0000 - val_loss: 0.8404 - val_accuracy: 0.6250\n",
      "Epoch 71/100\n",
      "4/4 [==============================] - 0s 11ms/step - loss: 0.0212 - accuracy: 1.0000 - val_loss: 0.8426 - val_accuracy: 0.6250\n",
      "Epoch 72/100\n",
      "4/4 [==============================] - 0s 7ms/step - loss: 0.0211 - accuracy: 1.0000 - val_loss: 0.8448 - val_accuracy: 0.6250\n",
      "Epoch 73/100\n",
      "4/4 [==============================] - 0s 7ms/step - loss: 0.0209 - accuracy: 1.0000 - val_loss: 0.8471 - val_accuracy: 0.6250\n",
      "Epoch 74/100\n",
      "4/4 [==============================] - 0s 4ms/step - loss: 0.0208 - accuracy: 1.0000 - val_loss: 0.8493 - val_accuracy: 0.6250\n",
      "Epoch 75/100\n",
      "4/4 [==============================] - 0s 10ms/step - loss: 0.0207 - accuracy: 1.0000 - val_loss: 0.8514 - val_accuracy: 0.6250\n",
      "Epoch 76/100\n",
      "4/4 [==============================] - 0s 8ms/step - loss: 0.0206 - accuracy: 1.0000 - val_loss: 0.8535 - val_accuracy: 0.6250\n",
      "Epoch 77/100\n",
      "4/4 [==============================] - 0s 3ms/step - loss: 0.0204 - accuracy: 1.0000 - val_loss: 0.8557 - val_accuracy: 0.6250\n",
      "Epoch 78/100\n",
      "4/4 [==============================] - 0s 5ms/step - loss: 0.0203 - accuracy: 1.0000 - val_loss: 0.8578 - val_accuracy: 0.6250\n",
      "Epoch 79/100\n",
      "4/4 [==============================] - 0s 5ms/step - loss: 0.0202 - accuracy: 1.0000 - val_loss: 0.8599 - val_accuracy: 0.6250\n",
      "Epoch 80/100\n",
      "4/4 [==============================] - 0s 11ms/step - loss: 0.0201 - accuracy: 1.0000 - val_loss: 0.8617 - val_accuracy: 0.6250\n",
      "Epoch 81/100\n",
      "4/4 [==============================] - 0s 10ms/step - loss: 0.0200 - accuracy: 1.0000 - val_loss: 0.8637 - val_accuracy: 0.6250\n",
      "Epoch 82/100\n",
      "4/4 [==============================] - 0s 5ms/step - loss: 0.0199 - accuracy: 1.0000 - val_loss: 0.8657 - val_accuracy: 0.6250\n",
      "Epoch 83/100\n",
      "4/4 [==============================] - 0s 3ms/step - loss: 0.0198 - accuracy: 1.0000 - val_loss: 0.8679 - val_accuracy: 0.6250\n",
      "Epoch 84/100\n",
      "4/4 [==============================] - 0s 10ms/step - loss: 0.0197 - accuracy: 1.0000 - val_loss: 0.8701 - val_accuracy: 0.6250\n",
      "Epoch 85/100\n",
      "4/4 [==============================] - 0s 3ms/step - loss: 0.0196 - accuracy: 1.0000 - val_loss: 0.8720 - val_accuracy: 0.6250\n",
      "Epoch 86/100\n",
      "4/4 [==============================] - 0s 11ms/step - loss: 0.0195 - accuracy: 1.0000 - val_loss: 0.8739 - val_accuracy: 0.6250\n",
      "Epoch 87/100\n",
      "4/4 [==============================] - 0s 8ms/step - loss: 0.0194 - accuracy: 1.0000 - val_loss: 0.8757 - val_accuracy: 0.6250\n",
      "Epoch 88/100\n",
      "4/4 [==============================] - 0s 7ms/step - loss: 0.0193 - accuracy: 1.0000 - val_loss: 0.8774 - val_accuracy: 0.6250\n",
      "Epoch 89/100\n",
      "4/4 [==============================] - 0s 7ms/step - loss: 0.0193 - accuracy: 1.0000 - val_loss: 0.8793 - val_accuracy: 0.6250\n",
      "Epoch 90/100\n",
      "4/4 [==============================] - 0s 9ms/step - loss: 0.0192 - accuracy: 1.0000 - val_loss: 0.8812 - val_accuracy: 0.6250\n",
      "Epoch 91/100\n",
      "4/4 [==============================] - 0s 8ms/step - loss: 0.0191 - accuracy: 1.0000 - val_loss: 0.8831 - val_accuracy: 0.6250\n",
      "Epoch 92/100\n",
      "4/4 [==============================] - 0s 7ms/step - loss: 0.0190 - accuracy: 1.0000 - val_loss: 0.8849 - val_accuracy: 0.6250\n",
      "Epoch 93/100\n",
      "4/4 [==============================] - 0s 7ms/step - loss: 0.0190 - accuracy: 1.0000 - val_loss: 0.8866 - val_accuracy: 0.6250\n",
      "Epoch 94/100\n",
      "4/4 [==============================] - 0s 7ms/step - loss: 0.0189 - accuracy: 1.0000 - val_loss: 0.8883 - val_accuracy: 0.6250\n",
      "Epoch 95/100\n",
      "4/4 [==============================] - 0s 4ms/step - loss: 0.0188 - accuracy: 1.0000 - val_loss: 0.8902 - val_accuracy: 0.6250\n",
      "Epoch 96/100\n",
      "4/4 [==============================] - 0s 11ms/step - loss: 0.0188 - accuracy: 1.0000 - val_loss: 0.8920 - val_accuracy: 0.6250\n",
      "Epoch 97/100\n",
      "4/4 [==============================] - 0s 4ms/step - loss: 0.0187 - accuracy: 1.0000 - val_loss: 0.8937 - val_accuracy: 0.6250\n",
      "Epoch 98/100\n",
      "4/4 [==============================] - 0s 11ms/step - loss: 0.0186 - accuracy: 1.0000 - val_loss: 0.8954 - val_accuracy: 0.6250\n",
      "Epoch 99/100\n",
      "4/4 [==============================] - 0s 4ms/step - loss: 0.0186 - accuracy: 1.0000 - val_loss: 0.8970 - val_accuracy: 0.6250\n",
      "Epoch 100/100\n",
      "4/4 [==============================] - 0s 10ms/step - loss: 0.0185 - accuracy: 1.0000 - val_loss: 0.8986 - val_accuracy: 0.6250\n"
     ]
    }
   ],
   "source": [
    "# Train the model\n",
    "history = best_model.fit(X_train_selected, y_train, epochs=100, batch_size=16, verbose=1, validation_data=(X_val_selected, y_val))"
   ],
   "metadata": {
    "collapsed": false,
    "pycharm": {
     "name": "#%%\n"
    }
   }
  },
  {
   "cell_type": "code",
   "execution_count": 141,
   "outputs": [
    {
     "name": "stdout",
     "output_type": "stream",
     "text": [
      "1/1 [==============================] - 0s 28ms/step\n",
      "Test accuracy: 0.750\n"
     ]
    }
   ],
   "source": [
    "# Evaluate the model on the test set\n",
    "y_pred = np.argmax(best_model.predict(X_test_selected), axis=-1)\n",
    "y_test = np.argmax(y_test, axis=1)\n",
    "accuracy = accuracy_score(y_test, y_pred)\n",
    "print(f\"Test accuracy: {accuracy:.3f}\")"
   ],
   "metadata": {
    "collapsed": false,
    "pycharm": {
     "name": "#%%\n"
    }
   }
  },
  {
   "cell_type": "code",
   "execution_count": 142,
   "outputs": [
    {
     "data": {
      "text/plain": "<Figure size 720x360 with 2 Axes>",
      "image/png": "[encoded data removed]"
     },
     "metadata": {},
     "output_type": "display_data"
    }
   ],
   "source": [
    "# Calculate and display the confusion matrix\n",
    "cm = confusion_matrix(y_test, y_pred)\n",
    "plt.figure(figsize=(10, 5))\n",
    "sns.heatmap(cm, annot=True, fmt='d', cmap='Blues', xticklabels=class_mapping.keys(), yticklabels=class_mapping.keys())\n",
    "plt.xlabel('Predicted')\n",
    "plt.ylabel('True')\n",
    "plt.title('Confusion Matrix')\n",
    "plt.show()"
   ],
   "metadata": {
    "collapsed": false,
    "pycharm": {
     "name": "#%%\n"
    }
   }
  },
  {
   "cell_type": "code",
   "execution_count": 143,
   "outputs": [
    {
     "data": {
      "text/plain": "<Figure size 720x360 with 1 Axes>",
      "image/png": "[encoded data removed]"
     },
     "metadata": {},
     "output_type": "display_data"
    },
    {
     "data": {
      "text/plain": "<Figure size 720x360 with 1 Axes>",
      "image/png": "[encoded data removed]"
     },
     "metadata": {},
     "output_type": "display_data"
    }
   ],
   "source": [
    "# Plot the training and validation losses\n",
    "plt.figure(figsize=(10, 5))\n",
    "plt.plot(history.history['loss'], label='Training Loss')\n",
    "plt.plot(history.history['val_loss'], label='Validation Loss')\n",
    "plt.xlabel('Epoch')\n",
    "plt.ylabel('Loss')\n",
    "plt.title('Training and Validation Losses')\n",
    "plt.legend()\n",
    "plt.show()\n",
    "\n",
    "# Plot the training and validation accuracies\n",
    "plt.figure(figsize=(10, 5))\n",
    "plt.plot(history.history['accuracy'], label='Training Accuracy')\n",
    "plt.plot(history.history['val_accuracy'], label='Validation Accuracy')\n",
    "plt.xlabel('Epoch')\n",
    "plt.ylabel('Accuracy')\n",
    "plt.title('Training and Validation Accuracies')\n",
    "plt.legend()\n",
    "plt.show()"
   ],
   "metadata": {
    "collapsed": false,
    "pycharm": {
     "name": "#%%\n"
    }
   }
  },
  {
   "cell_type": "code",
   "execution_count": 144,
   "outputs": [
    {
     "name": "stdout",
     "output_type": "stream",
     "text": [
      "Classification Report:\n",
      "               precision    recall  f1-score   support\n",
      "\n",
      "           0       1.00      0.86      0.92         7\n",
      "           1       0.71      0.71      0.71         7\n",
      "           2       0.57      0.67      0.62         6\n",
      "\n",
      "    accuracy                           0.75        20\n",
      "   macro avg       0.76      0.75      0.75        20\n",
      "weighted avg       0.77      0.75      0.76        20\n",
      "\n"
     ]
    }
   ],
   "source": [
    "class_report = classification_report(y_test, y_pred)\n",
    "print(\"Classification Report:\\n\", class_report)"
   ],
   "metadata": {
    "collapsed": false,
    "pycharm": {
     "name": "#%%\n"
    }
   }
  }
 ],
 "metadata": {
  "kernelspec": {
   "display_name": "Python 3",
   "language": "python",
   "name": "python3"
  },
  "language_info": {
   "codemirror_mode": {
    "name": "ipython",
    "version": 2
   },
   "file_extension": ".py",
   "mimetype": "text/x-python",
   "name": "python",
   "nbconvert_exporter": "python",
   "pygments_lexer": "ipython2",
   "version": "2.7.6"
  }
 },
 "nbformat": 4,
 "nbformat_minor": 0
}